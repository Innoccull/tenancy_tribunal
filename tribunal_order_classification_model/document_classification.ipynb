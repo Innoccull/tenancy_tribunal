{
 "cells": [
  {
   "cell_type": "code",
   "execution_count": 51,
   "metadata": {},
   "outputs": [],
   "source": [
    "import spacy\n",
    "import random\n",
    "import json\n",
    "from spacy.training.example import Example\n",
    "\n",
    "# Load the spaCy language model\n",
    "nlp = spacy.blank('en')\n",
    "\n",
    "# Define the text classification pipeline in the spaCy model\n",
    "text_cat = nlp.add_pipe(\"textcat_multilabel\")"
   ]
  },
  {
   "cell_type": "code",
   "execution_count": 52,
   "metadata": {},
   "outputs": [],
   "source": [
    "# Load your training data from a JSONL file\n",
    "with open(\"annotated_orders.jsonl\", \"r\", encoding=\"utf-8\") as file:\n",
    "    annotated_orders = [json.loads(line) for line in file]\n",
    "\n",
    "# Load your training data from a JSONL file\n",
    "with open(\"label_config.json\", \"r\", encoding=\"utf-8\") as file:\n",
    "    labels = json.load(file)"
   ]
  },
  {
   "cell_type": "code",
   "execution_count": 53,
   "metadata": {},
   "outputs": [],
   "source": [
    "label_text = []\n",
    "\n",
    "for label in labels:\n",
    "    label_text.append(label['text'])"
   ]
  },
  {
   "cell_type": "code",
   "execution_count": 54,
   "metadata": {},
   "outputs": [],
   "source": [
    "# Replace id with label text\n",
    "for order in annotated_orders:\n",
    "\n",
    "    # Get the annotations for the order\n",
    "    annotations = order['annotations']\n",
    "\n",
    "    # For each annotation\n",
    "    for annotation in annotations:\n",
    "        # Loop through labels\n",
    "        for label in labels:\n",
    "            # If label id matches the annotation id\n",
    "            if (label['id'] == annotation['label']):\n",
    "                # Update annotation's label id with text of the label\n",
    "                annotation['label'] = label['text']"
   ]
  },
  {
   "cell_type": "code",
   "execution_count": 55,
   "metadata": {},
   "outputs": [],
   "source": [
    "# Add the labels/categories you want to classify into\n",
    "for label in label_text:\n",
    "    text_cat.add_label(label)"
   ]
  },
  {
   "cell_type": "code",
   "execution_count": 56,
   "metadata": {},
   "outputs": [],
   "source": [
    "# Set training data to \n",
    "training_data = annotated_orders\n",
    "\n",
    "# Shuffle the training data for better training\n",
    "random.shuffle(training_data)"
   ]
  },
  {
   "cell_type": "code",
   "execution_count": 57,
   "metadata": {},
   "outputs": [],
   "source": [
    "# Create a temporary dictionary\n",
    "temp = {}\n",
    "\n",
    "# For each label in label text\n",
    "for key in label_text:\n",
    "    # Set dictionary entry to 0\n",
    "    temp[key] = 0"
   ]
  },
  {
   "cell_type": "code",
   "execution_count": 58,
   "metadata": {},
   "outputs": [],
   "source": [
    "# Create training examples empty list\n",
    "train_examples = []\n",
    "\n",
    "# For each order in training data\n",
    "for order in training_data:\n",
    "    text = order[\"text\"]\n",
    "    labels = {\"cats\": temp.copy()}\n",
    "\n",
    "    annotations = order['annotations']\n",
    "\n",
    "    for annotation in annotations:\n",
    "        labels['cats'][annotation['label']] = 1\n",
    "\n",
    "    example = Example.from_dict(nlp.make_doc(text), labels)\n",
    "    train_examples.append(example)"
   ]
  },
  {
   "cell_type": "code",
   "execution_count": 59,
   "metadata": {},
   "outputs": [
    {
     "name": "stdout",
     "output_type": "stream",
     "text": [
      "{'textcat_multilabel': 5.8554859682917595}\n",
      "{'textcat_multilabel': 3.3550589829683304}\n",
      "{'textcat_multilabel': 3.5458345655351877}\n",
      "{'textcat_multilabel': 3.179036063142121}\n",
      "{'textcat_multilabel': 3.055956121534109}\n",
      "{'textcat_multilabel': 2.707000511698425}\n",
      "{'textcat_multilabel': 2.6853528963401914}\n",
      "{'textcat_multilabel': 2.4442971888929605}\n",
      "{'textcat_multilabel': 2.597523578442633}\n",
      "{'textcat_multilabel': 2.374800975434482}\n"
     ]
    }
   ],
   "source": [
    "# Train the text classification model\n",
    "random.seed(1)  # for reproducibility\n",
    "spacy.util.fix_random_seed(1)\n",
    "text_cat_cfg = {\"exclusive_classes\": False, \"architecture\": \"simple_cnn\"}\n",
    "text_cat_cfg.update({\"n_iter\": 10})  # adjust the number of iterations as needed\n",
    "nlp.begin_training()\n",
    "\n",
    "for epoch in range(text_cat_cfg[\"n_iter\"]):\n",
    "    random.shuffle(train_examples)\n",
    "    losses = {}\n",
    "    # Update the model with iterating over the training examples\n",
    "    for example in train_examples:\n",
    "        nlp.update([example], drop=0.5, losses=losses)\n",
    "\n",
    "    print(losses)\n",
    "\n",
    "\n",
    "# Save the trained model\n",
    "nlp.to_disk(\"text_cat_model\")"
   ]
  },
  {
   "cell_type": "code",
   "execution_count": 60,
   "metadata": {},
   "outputs": [],
   "source": [
    "# Load the saved model\n",
    "path_to_saved_model = 'text_cat_model'\n",
    "\n",
    "# Load the spaCy model\n",
    "nlp = spacy.load(path_to_saved_model)\n",
    "\n",
    "# Now, you can use the loaded model for various tasks\n",
    "text = \"The landlord did unlawfully enter the property.\"\n",
    "doc = nlp(text)"
   ]
  },
  {
   "cell_type": "code",
   "execution_count": 62,
   "metadata": {},
   "outputs": [
    {
     "data": {
      "text/plain": [
       "['textcat_multilabel']"
      ]
     },
     "execution_count": 62,
     "metadata": {},
     "output_type": "execute_result"
    }
   ],
   "source": [
    "nlp.pipe_names"
   ]
  }
 ],
 "metadata": {
  "kernelspec": {
   "display_name": "tenancy_tribunal",
   "language": "python",
   "name": "python3"
  },
  "language_info": {
   "codemirror_mode": {
    "name": "ipython",
    "version": 3
   },
   "file_extension": ".py",
   "mimetype": "text/x-python",
   "name": "python",
   "nbconvert_exporter": "python",
   "pygments_lexer": "ipython3",
   "version": "3.11.5"
  }
 },
 "nbformat": 4,
 "nbformat_minor": 2
}
