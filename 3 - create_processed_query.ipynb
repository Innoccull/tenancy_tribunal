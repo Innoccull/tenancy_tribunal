{
 "cells": [
  {
   "cell_type": "code",
   "execution_count": 23,
   "metadata": {},
   "outputs": [],
   "source": [
    "import pandas as pd\n",
    "import spacy"
   ]
  },
  {
   "cell_type": "code",
   "execution_count": 24,
   "metadata": {},
   "outputs": [],
   "source": [
    "# Load data\n",
    "\n",
    "questions = pd.read_csv('data\\\\questions.csv')"
   ]
  },
  {
   "cell_type": "markdown",
   "metadata": {},
   "source": [
    "Get named entities for queries"
   ]
  },
  {
   "cell_type": "code",
   "execution_count": 25,
   "metadata": {},
   "outputs": [],
   "source": [
    "# Get named entities\n",
    "nlp = spacy.load(\"en_core_web_sm\")\n",
    "\n",
    "result = []\n",
    "\n",
    "for idx, row in questions.iterrows():\n",
    "    query_ents = []\n",
    "\n",
    "    doc = nlp(row['title'])\n",
    "\n",
    "    for ent in doc.ents:\n",
    "        query_ents.append(ent)\n",
    "\n",
    "    doc = nlp(row['query'])\n",
    "\n",
    "    for ent in doc.ents:\n",
    "        query_ents.append(ent)\n",
    "    \n",
    "    result.append(query_ents)"
   ]
  },
  {
   "cell_type": "code",
   "execution_count": 26,
   "metadata": {},
   "outputs": [
    {
     "name": "stdout",
     "output_type": "stream",
     "text": [
      "[[Landlord, Friday, 1 month, This morning, 175, 230, 2, Friday, morning, Tennant, Friday, morning], [Yesterday, about 3pm, n’t], [Landlord, English, 3 years], [], [three, our thirties, every two weeks, a day, almost two weeks, Untidy, first, four, two, two]]\n"
     ]
    }
   ],
   "source": [
    "print(result)"
   ]
  },
  {
   "cell_type": "code",
   "execution_count": 27,
   "metadata": {},
   "outputs": [],
   "source": [
    "from collections import defaultdict\n",
    "\n",
    "query_entities = defaultdict(list)\n",
    "\n",
    "for idx, doc in enumerate(result):\n",
    "    query_entities[idx] = result[idx]"
   ]
  },
  {
   "cell_type": "markdown",
   "metadata": {},
   "source": [
    "Question summary"
   ]
  },
  {
   "cell_type": "code",
   "execution_count": 28,
   "metadata": {},
   "outputs": [],
   "source": [
    "from transformers import BartForConditionalGeneration, BartTokenizer\n",
    "\n",
    "# Load pre-trained BART model and tokenizer\n",
    "model_name = \"facebook/bart-large-cnn\"\n",
    "tokenizer = BartTokenizer.from_pretrained(model_name)\n",
    "model = BartForConditionalGeneration.from_pretrained(model_name)"
   ]
  },
  {
   "cell_type": "code",
   "execution_count": 29,
   "metadata": {},
   "outputs": [],
   "source": [
    "result = []\n",
    "\n",
    "for idx, row in questions.iterrows():\n",
    "\n",
    "    # Sample text for summarization\n",
    "    input_text = row['query']\n",
    "\n",
    "    # Tokenize input text\n",
    "    input_ids = tokenizer.encode(input_text, return_tensors=\"pt\", max_length=1024, truncation=True)\n",
    "\n",
    "    # Generate summary\n",
    "    summary_ids = model.generate(input_ids, max_length=100, min_length=50, length_penalty=2.0, num_beams=4, early_stopping=True)\n",
    "    summary = tokenizer.decode(summary_ids[0], skip_special_tokens=True)\n",
    "\n",
    "    result.append(summary)"
   ]
  },
  {
   "cell_type": "code",
   "execution_count": 30,
   "metadata": {},
   "outputs": [],
   "source": [
    "# Save queries\n",
    "query_summaries = defaultdict(list)\n",
    "\n",
    "for idx, sum in enumerate(result):\n",
    "    query_summaries[idx] = sum"
   ]
  },
  {
   "cell_type": "code",
   "execution_count": 31,
   "metadata": {},
   "outputs": [],
   "source": [
    "import pandas as pd\n",
    "\n",
    "# Initialize an empty DataFrame with specific columns\n",
    "columns = ['title', 'query', 'named_entities', 'summary']\n",
    "processed_queries = pd.DataFrame(columns={col: [] for col in columns})\n",
    "\n",
    "processed_queries['title'] = questions['title']\n",
    "processed_queries['query'] = questions['query']\n",
    "processed_queries['named_entities'] = query_entities\n",
    "processed_queries['summary'] = query_summaries"
   ]
  },
  {
   "cell_type": "code",
   "execution_count": 34,
   "metadata": {},
   "outputs": [],
   "source": [
    "processed_queries.to_csv('data\\\\processed_queries.csv')"
   ]
  }
 ],
 "metadata": {
  "kernelspec": {
   "display_name": "tenancy_tribunal",
   "language": "python",
   "name": "python3"
  },
  "language_info": {
   "codemirror_mode": {
    "name": "ipython",
    "version": 3
   },
   "file_extension": ".py",
   "mimetype": "text/x-python",
   "name": "python",
   "nbconvert_exporter": "python",
   "pygments_lexer": "ipython3",
   "version": "3.11.5"
  }
 },
 "nbformat": 4,
 "nbformat_minor": 2
}
