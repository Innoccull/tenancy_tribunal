{
 "cells": [
  {
   "cell_type": "code",
   "execution_count": 1,
   "metadata": {},
   "outputs": [],
   "source": [
    "import pandas as pd\n",
    "import spacy"
   ]
  },
  {
   "cell_type": "code",
   "execution_count": 2,
   "metadata": {},
   "outputs": [],
   "source": [
    "# Load data\n",
    "questions = pd.read_csv('data\\\\questions.csv')"
   ]
  },
  {
   "cell_type": "markdown",
   "metadata": {},
   "source": [
    "Get named entities for queries"
   ]
  },
  {
   "cell_type": "code",
   "execution_count": 3,
   "metadata": {},
   "outputs": [
    {
     "name": "stderr",
     "output_type": "stream",
     "text": [
      "c:\\Users\\Chris\\anaconda3\\envs\\tenancy_tribunal\\Lib\\site-packages\\tqdm\\auto.py:21: TqdmWarning: IProgress not found. Please update jupyter and ipywidgets. See https://ipywidgets.readthedocs.io/en/stable/user_install.html\n",
      "  from .autonotebook import tqdm as notebook_tqdm\n"
     ]
    }
   ],
   "source": [
    "# Get named entities\n",
    "nlp = spacy.load(\"en_core_web_sm\")\n",
    "\n",
    "result = []\n",
    "\n",
    "for idx, row in questions.iterrows():\n",
    "    query_ents = []\n",
    "\n",
    "    doc = nlp(row['title'])\n",
    "\n",
    "    for ent in doc.ents:\n",
    "        query_ents.append(ent)\n",
    "\n",
    "    doc = nlp(row['query'])\n",
    "\n",
    "    for ent in doc.ents:\n",
    "        query_ents.append(ent)\n",
    "    \n",
    "    result.append(query_ents)"
   ]
  },
  {
   "cell_type": "code",
   "execution_count": 4,
   "metadata": {},
   "outputs": [],
   "source": [
    "from collections import defaultdict\n",
    "\n",
    "query_entities = defaultdict(list)\n",
    "\n",
    "for idx, doc in enumerate(result):\n",
    "    query_entities[idx] = result[idx]"
   ]
  },
  {
   "cell_type": "markdown",
   "metadata": {},
   "source": [
    "Noun chunks"
   ]
  },
  {
   "cell_type": "code",
   "execution_count": 6,
   "metadata": {},
   "outputs": [],
   "source": [
    "# Get noun chunks\n",
    "\n",
    "result = []\n",
    "\n",
    "for idx, row in questions.iterrows():\n",
    "    query_chunks = []\n",
    "\n",
    "    doc = nlp(row['title'])\n",
    "\n",
    "    for chunk in doc.noun_chunks:\n",
    "        query_chunks.append(chunk)\n",
    "\n",
    "    doc = nlp(row['query'])\n",
    "\n",
    "    for chunk in doc.noun_chunks:\n",
    "        query_chunks.append(chunk)\n",
    "    \n",
    "    result.append(query_chunks)"
   ]
  },
  {
   "cell_type": "code",
   "execution_count": 7,
   "metadata": {},
   "outputs": [],
   "source": [
    "from collections import defaultdict\n",
    "\n",
    "query_chunks = defaultdict(list)\n",
    "\n",
    "for idx, doc in enumerate(result):\n",
    "    query_chunks[idx] = result[idx]"
   ]
  },
  {
   "cell_type": "markdown",
   "metadata": {},
   "source": [
    "Question summary"
   ]
  },
  {
   "cell_type": "code",
   "execution_count": 8,
   "metadata": {},
   "outputs": [],
   "source": [
    "from transformers import BartForConditionalGeneration, BartTokenizer\n",
    "\n",
    "# Load pre-trained BART model and tokenizer\n",
    "model_name = \"facebook/bart-large-cnn\"\n",
    "tokenizer = BartTokenizer.from_pretrained(model_name)\n",
    "model = BartForConditionalGeneration.from_pretrained(model_name)"
   ]
  },
  {
   "cell_type": "code",
   "execution_count": 9,
   "metadata": {},
   "outputs": [],
   "source": [
    "result = []\n",
    "\n",
    "for idx, row in questions.iterrows():\n",
    "\n",
    "    # Sample text for summarization\n",
    "    input_text = row['query']\n",
    "\n",
    "    # Tokenize input text\n",
    "    input_ids = tokenizer.encode(input_text, return_tensors=\"pt\", max_length=1024, truncation=True)\n",
    "\n",
    "    # Generate summary\n",
    "    summary_ids = model.generate(input_ids, max_length=100, min_length=50, length_penalty=2.0, num_beams=4, early_stopping=True)\n",
    "    summary = tokenizer.decode(summary_ids[0], skip_special_tokens=True)\n",
    "\n",
    "    result.append(summary)"
   ]
  },
  {
   "cell_type": "code",
   "execution_count": 10,
   "metadata": {},
   "outputs": [],
   "source": [
    "# Save queries\n",
    "query_summaries = defaultdict(list)\n",
    "\n",
    "for idx, sum in enumerate(result):\n",
    "    query_summaries[idx] = sum"
   ]
  },
  {
   "cell_type": "code",
   "execution_count": 11,
   "metadata": {},
   "outputs": [],
   "source": [
    "import pandas as pd\n",
    "\n",
    "# Initialize an empty DataFrame with specific columns\n",
    "columns = ['title', 'query', 'named_entities', 'summary', 'chunks']\n",
    "processed_queries = pd.DataFrame(columns={col: [] for col in columns})\n",
    "\n",
    "processed_queries['title'] = questions['title']\n",
    "processed_queries['query'] = questions['query']\n",
    "processed_queries['named_entities'] = query_entities\n",
    "processed_queries['summary'] = query_summaries\n",
    "processed_queries['chunks'] = query_chunks"
   ]
  },
  {
   "cell_type": "code",
   "execution_count": 12,
   "metadata": {},
   "outputs": [],
   "source": [
    "processed_queries.to_csv('data\\\\processed_queries.csv', index=False)"
   ]
  }
 ],
 "metadata": {
  "kernelspec": {
   "display_name": "tenancy_tribunal",
   "language": "python",
   "name": "python3"
  },
  "language_info": {
   "codemirror_mode": {
    "name": "ipython",
    "version": 3
   },
   "file_extension": ".py",
   "mimetype": "text/x-python",
   "name": "python",
   "nbconvert_exporter": "python",
   "pygments_lexer": "ipython3",
   "version": "3.11.5"
  }
 },
 "nbformat": 4,
 "nbformat_minor": 2
}
