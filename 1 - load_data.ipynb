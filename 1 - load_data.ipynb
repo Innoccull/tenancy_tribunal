{
 "cells": [
  {
   "cell_type": "code",
   "execution_count": 1,
   "metadata": {},
   "outputs": [],
   "source": [
    "from pypdf import PdfReader\n",
    "import os\n",
    "import pandas as pd\n",
    "\n",
    "directory = 'C:\\\\Users\\\\chris\\\\tenancy_tribunal\\\\data\\\\tribunal_orders'"
   ]
  },
  {
   "cell_type": "code",
   "execution_count": 2,
   "metadata": {},
   "outputs": [],
   "source": [
    "parts = []\n",
    "\n",
    "def visitor_body(text, cm, tm, font_dict, font_size):\n",
    "    y = cm[5]\n",
    "\n",
    "    if y > 100 and y < 800:\n",
    "        parts.append(text)"
   ]
  },
  {
   "cell_type": "code",
   "execution_count": 3,
   "metadata": {},
   "outputs": [],
   "source": [
    "# Load tribunal orders\n",
    "tribunal_orders = []\n",
    "\n",
    "for file in os.listdir(directory):\n",
    "    reader = PdfReader(os.path.join(directory,file))\n",
    "\n",
    "    for page in reader.pages[:-2]:\n",
    "        page.extract_text(visitor_text=visitor_body)\n",
    "    \n",
    "    text_body = \"\".join(parts)\n",
    "\n",
    "    tribunal_orders.append(text_body)\n",
    "\n",
    "    parts = []"
   ]
  },
  {
   "cell_type": "markdown",
   "metadata": {},
   "source": [
    "Data pre-processing functions"
   ]
  },
  {
   "cell_type": "code",
   "execution_count": 4,
   "metadata": {},
   "outputs": [
    {
     "name": "stderr",
     "output_type": "stream",
     "text": [
      "[nltk_data] Downloading package wordnet to\n",
      "[nltk_data]     C:\\Users\\Chris\\AppData\\Roaming\\nltk_data...\n",
      "[nltk_data]   Package wordnet is already up-to-date!\n",
      "[nltk_data] Downloading package punkt to\n",
      "[nltk_data]     C:\\Users\\Chris\\AppData\\Roaming\\nltk_data...\n",
      "[nltk_data]   Package punkt is already up-to-date!\n",
      "c:\\Users\\Chris\\anaconda3\\envs\\tenancy_tribunal\\Lib\\site-packages\\tqdm\\auto.py:21: TqdmWarning: IProgress not found. Please update jupyter and ipywidgets. See https://ipywidgets.readthedocs.io/en/stable/user_install.html\n",
      "  from .autonotebook import tqdm as notebook_tqdm\n"
     ]
    }
   ],
   "source": [
    "import re\n",
    "import spacy\n",
    "import json\n",
    "import nltk\n",
    "from nltk.stem import PorterStemmer\n",
    "from nltk.stem import WordNetLemmatizer\n",
    "\n",
    "nltk.download('wordnet') \n",
    "nltk.download('punkt')\n",
    "nlp = spacy.load(\"en_core_web_sm\")\n",
    "\n",
    "# Apply stemming to a set of documents\n",
    "def apply_stemming(documents):\n",
    "    result = []\n",
    "    stemmer = PorterStemmer()\n",
    "\n",
    "    for document in documents:\n",
    "        tokens = nltk.word_tokenize(document)\n",
    "        stemmed_tokens = [stemmer.stem(token) for token in tokens]\n",
    "        stemmed_document = ' '.join(stemmed_tokens)\n",
    "\n",
    "        result.append(stemmed_document)\n",
    "\n",
    "    return(result)\n",
    "\n",
    "\n",
    "# Apply lemmtisation to a set of document\n",
    "def apply_lemmatisation(documents):\n",
    "    result = []\n",
    "    lemmatiser = WordNetLemmatizer()\n",
    "\n",
    "    for document in documents:\n",
    "        tokens = nltk.word_tokenize(document)\n",
    "        lemmatised_tokens = [lemmatiser.lemmatize(token) for token in tokens]\n",
    "        lemmatised_document =  ' '.join(lemmatised_tokens)\n",
    "\n",
    "        result.append(lemmatised_document)\n",
    "    \n",
    "    return(result)\n",
    "\n",
    "\n",
    "# Apply entity filtering to a single document\n",
    "def filter_entities(document, entities_to_filter):\n",
    "\n",
    "    doc = nlp(document)\n",
    "    cleaned_text = []\n",
    "\n",
    "    for token in doc:\n",
    "        if token.ent_type_ not in entities_to_filter:\n",
    "            cleaned_text.append(token.text)\n",
    "        \n",
    "    filtered_document =  ' '.join(cleaned_text)\n",
    "\n",
    "    \n",
    "    return (filtered_document)\n",
    "\n",
    "# Prepare data for doccano\n",
    "def write_jsonl(file_path, documents):\n",
    "\n",
    "    with open(file_path, 'w') as file:\n",
    "        for doc in documents:\n",
    "            document_dict = {\"text\": doc}  # Each string is treated as the 'text' field in a JSON object\n",
    "            file.write(json.dumps(document_dict) + '\\n')\n"
   ]
  },
  {
   "cell_type": "code",
   "execution_count": 5,
   "metadata": {},
   "outputs": [],
   "source": [
    "#pre-process text for tfidf\n",
    "def preprocess_tfidf(documents):\n",
    "\n",
    "    result = []\n",
    "    entities_to_filter = ['PERSON', 'ORG', 'CARDINAL', 'MONEY', 'DATE', 'FAC', 'GPE', 'LOC']\n",
    "\n",
    "    for document in documents:\n",
    "\n",
    "        #Filter out entities\n",
    "        document = filter_entities(document, entities_to_filter=entities_to_filter)\n",
    "\n",
    "        # Push to lower text\n",
    "        document = document.lower()\n",
    "\n",
    "        # Remove numbers\n",
    "        document = re.sub(r'\\d+', '', document)\n",
    "\n",
    "        # Remove names\n",
    "        document = re.sub(r'\\b[A-Z][a-z]+\\b', '', document)\n",
    "\n",
    "        # Remove punctuation and special characters\n",
    "        document = re.sub(r'[^a-zA-Z\\s]', '', document)\n",
    "\n",
    "        result.append(document)\n",
    "\n",
    "    #result = apply_stemming(result)\n",
    "    result = apply_lemmatisation(result)\n",
    "        \n",
    "    return result"
   ]
  },
  {
   "cell_type": "code",
   "execution_count": 6,
   "metadata": {},
   "outputs": [],
   "source": [
    "# Create pre-processed datasets for specific tasks\n",
    "tribunal_orders_tfidf = preprocess_tfidf(tribunal_orders)\n",
    "tribunal_orders_ner = tribunal_orders\n",
    "tribunal_orders_cat = tribunal_orders\n",
    "tribunal_orders_sum = tribunal_orders"
   ]
  },
  {
   "cell_type": "code",
   "execution_count": 7,
   "metadata": {},
   "outputs": [],
   "source": [
    "# Save data\n",
    "columns = ['tfidf', 'ner', 'cat', 'sum']\n",
    "tribunal_orders = pd.DataFrame(columns={col: [] for col in columns})\n",
    "\n",
    "tribunal_orders['tfidf'] = tribunal_orders_tfidf\n",
    "tribunal_orders['ner'] = tribunal_orders_ner\n",
    "tribunal_orders['cat'] = tribunal_orders_cat\n",
    "tribunal_orders['sum'] = tribunal_orders_sum"
   ]
  },
  {
   "cell_type": "code",
   "execution_count": 8,
   "metadata": {},
   "outputs": [],
   "source": [
    "tribunal_orders.to_csv('data\\\\tribunal_orders.csv', index=False)"
   ]
  }
 ],
 "metadata": {
  "kernelspec": {
   "display_name": "tenancy_tribunal",
   "language": "python",
   "name": "python3"
  },
  "language_info": {
   "codemirror_mode": {
    "name": "ipython",
    "version": 3
   },
   "file_extension": ".py",
   "mimetype": "text/x-python",
   "name": "python",
   "nbconvert_exporter": "python",
   "pygments_lexer": "ipython3",
   "version": "3.11.5"
  }
 },
 "nbformat": 4,
 "nbformat_minor": 2
}
