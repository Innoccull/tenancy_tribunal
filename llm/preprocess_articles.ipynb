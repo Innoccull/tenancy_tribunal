{
 "cells": [
  {
   "cell_type": "code",
   "execution_count": 21,
   "metadata": {},
   "outputs": [],
   "source": [
    "import json\n",
    "import pandas as pd\n",
    "import spacy"
   ]
  },
  {
   "cell_type": "code",
   "execution_count": 4,
   "metadata": {},
   "outputs": [],
   "source": [
    "f = open('data\\\\data.json')\n",
    "data = json.load(f)"
   ]
  },
  {
   "cell_type": "code",
   "execution_count": 23,
   "metadata": {},
   "outputs": [],
   "source": [
    "df = pd.DataFrame.from_dict(data, orient='index')"
   ]
  },
  {
   "cell_type": "code",
   "execution_count": 24,
   "metadata": {},
   "outputs": [
    {
     "data": {
      "text/html": [
       "<div>\n",
       "<style scoped>\n",
       "    .dataframe tbody tr th:only-of-type {\n",
       "        vertical-align: middle;\n",
       "    }\n",
       "\n",
       "    .dataframe tbody tr th {\n",
       "        vertical-align: top;\n",
       "    }\n",
       "\n",
       "    .dataframe thead th {\n",
       "        text-align: right;\n",
       "    }\n",
       "</style>\n",
       "<table border=\"1\" class=\"dataframe\">\n",
       "  <thead>\n",
       "    <tr style=\"text-align: right;\">\n",
       "      <th></th>\n",
       "      <th>title</th>\n",
       "      <th>article</th>\n",
       "      <th>cat1</th>\n",
       "      <th>cat2</th>\n",
       "      <th>cat3</th>\n",
       "    </tr>\n",
       "  </thead>\n",
       "  <tbody>\n",
       "    <tr>\n",
       "      <th>0</th>\n",
       "      <td>What are some tips for complaining effectively?</td>\n",
       "      <td>When something goes wrong it can be hard to kn...</td>\n",
       "      <td>Consumer</td>\n",
       "      <td>Complaints and mediation</td>\n",
       "      <td>Making a complaint</td>\n",
       "    </tr>\n",
       "    <tr>\n",
       "      <th>1</th>\n",
       "      <td>What is mediation?</td>\n",
       "      <td>If you and another person or organisation (the...</td>\n",
       "      <td>Consumer</td>\n",
       "      <td>Complaints and mediation</td>\n",
       "      <td>Mediation</td>\n",
       "    </tr>\n",
       "    <tr>\n",
       "      <th>2</th>\n",
       "      <td>What do I need to know before buying goods at ...</td>\n",
       "      <td>Do some researchBefore you start bidding on an...</td>\n",
       "      <td>Consumer</td>\n",
       "      <td>Ways of buying</td>\n",
       "      <td>Auctions</td>\n",
       "    </tr>\n",
       "    <tr>\n",
       "      <th>5</th>\n",
       "      <td>What will happen if I am not offered diversion?</td>\n",
       "      <td>\\n\\n\\n\\n\\n\\nIf you are not offered diversion (...</td>\n",
       "      <td>Government and Law</td>\n",
       "      <td>Law enforcement</td>\n",
       "      <td>Diversion</td>\n",
       "    </tr>\n",
       "    <tr>\n",
       "      <th>17</th>\n",
       "      <td>How is Māori land different from ordinary land?</td>\n",
       "      <td>The Te Ture Whenua Māori Act 1993 defines what...</td>\n",
       "      <td>Housing, Land &amp; Environment</td>\n",
       "      <td>Māori land</td>\n",
       "      <td>Māori land and the Māori Land Court</td>\n",
       "    </tr>\n",
       "  </tbody>\n",
       "</table>\n",
       "</div>"
      ],
      "text/plain": [
       "                                                title  \\\n",
       "0     What are some tips for complaining effectively?   \n",
       "1                                  What is mediation?   \n",
       "2   What do I need to know before buying goods at ...   \n",
       "5    What will happen if I am not offered diversion?    \n",
       "17    How is Māori land different from ordinary land?   \n",
       "\n",
       "                                              article  \\\n",
       "0   When something goes wrong it can be hard to kn...   \n",
       "1   If you and another person or organisation (the...   \n",
       "2   Do some researchBefore you start bidding on an...   \n",
       "5   \\n\\n\\n\\n\\n\\nIf you are not offered diversion (...   \n",
       "17  The Te Ture Whenua Māori Act 1993 defines what...   \n",
       "\n",
       "                           cat1                      cat2  \\\n",
       "0                      Consumer  Complaints and mediation   \n",
       "1                      Consumer  Complaints and mediation   \n",
       "2                      Consumer            Ways of buying   \n",
       "5            Government and Law           Law enforcement   \n",
       "17  Housing, Land & Environment                Māori land   \n",
       "\n",
       "                                   cat3  \n",
       "0                    Making a complaint  \n",
       "1                             Mediation  \n",
       "2                              Auctions  \n",
       "5                             Diversion  \n",
       "17  Māori land and the Māori Land Court  "
      ]
     },
     "execution_count": 24,
     "metadata": {},
     "output_type": "execute_result"
    }
   ],
   "source": [
    "df.head()"
   ]
  },
  {
   "cell_type": "markdown",
   "metadata": {},
   "source": [
    "Preprocessing:\n",
    "- Remove number followed by a dot.\n",
    "- Replace '\\xa0' with ' '\n",
    "- Remove punctuation"
   ]
  },
  {
   "cell_type": "code",
   "execution_count": 14,
   "metadata": {},
   "outputs": [],
   "source": [
    "nlp = spacy.load('en_core_web_sm')\n",
    "doc = nlp(data['0']['article'])"
   ]
  },
  {
   "cell_type": "code",
   "execution_count": 17,
   "metadata": {},
   "outputs": [],
   "source": [
    "for sent in doc.sents:\n",
    "    sent"
   ]
  }
 ],
 "metadata": {
  "kernelspec": {
   "display_name": "tenancy_tribunal",
   "language": "python",
   "name": "python3"
  },
  "language_info": {
   "codemirror_mode": {
    "name": "ipython",
    "version": 3
   },
   "file_extension": ".py",
   "mimetype": "text/x-python",
   "name": "python",
   "nbconvert_exporter": "python",
   "pygments_lexer": "ipython3",
   "version": "3.11.5"
  }
 },
 "nbformat": 4,
 "nbformat_minor": 2
}
